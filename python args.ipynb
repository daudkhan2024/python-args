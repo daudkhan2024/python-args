{
 "cells": [
  {
   "cell_type": "code",
   "execution_count": 15,
   "id": "dff0ebc2",
   "metadata": {},
   "outputs": [],
   "source": [
    "def test(*args): \n",
    "      print(\"this is my args\")"
   ]
  },
  {
   "cell_type": "code",
   "execution_count": 16,
   "id": "1ad2e689",
   "metadata": {},
   "outputs": [
    {
     "name": "stdout",
     "output_type": "stream",
     "text": [
      "this is my args\n"
     ]
    }
   ],
   "source": [
    "test()"
   ]
  },
  {
   "cell_type": "code",
   "execution_count": 39,
   "id": "d317671a",
   "metadata": {},
   "outputs": [],
   "source": [
    "def test1(**kwargs): \n",
    "      print(\"this is my kwargs\",kwargs.items())"
   ]
  },
  {
   "cell_type": "code",
   "execution_count": 40,
   "id": "1fef5869",
   "metadata": {},
   "outputs": [
    {
     "name": "stdout",
     "output_type": "stream",
     "text": [
      "this is my kwargs dict_items([('x', 'khan'), ('y', 23), ('z', 55.4), ('p', [2, 3, 4, 5])])\n"
     ]
    }
   ],
   "source": [
    "test1(x=\"khan\",y=23,z=55.4,p=[2,3,4,5])"
   ]
  },
  {
   "cell_type": "code",
   "execution_count": 48,
   "id": "fd027fba",
   "metadata": {},
   "outputs": [],
   "source": [
    "def test3(name,mail_id):\n",
    "    con = name+ mail_id\n",
    "    return mail_id,name ,con"
   ]
  },
  {
   "cell_type": "code",
   "execution_count": 49,
   "id": "c83e7757",
   "metadata": {},
   "outputs": [
    {
     "data": {
      "text/plain": [
       "('khan@gmail.com', 'sudh', 'sudhkhan@gmail.com')"
      ]
     },
     "execution_count": 49,
     "metadata": {},
     "output_type": "execute_result"
    }
   ],
   "source": [
    "test3(\"sudh\",\"khan@gmail.com\")"
   ]
  },
  {
   "cell_type": "code",
   "execution_count": 50,
   "id": "9fe898cb",
   "metadata": {},
   "outputs": [],
   "source": [
    "a = 10\n",
    "b = 20\n",
    "def test22(x,y):\n",
    "    return x+y"
   ]
  },
  {
   "cell_type": "code",
   "execution_count": 51,
   "id": "5c34834b",
   "metadata": {},
   "outputs": [
    {
     "data": {
      "text/plain": [
       "30"
      ]
     },
     "execution_count": 51,
     "metadata": {},
     "output_type": "execute_result"
    }
   ],
   "source": [
    "test22(a,b)"
   ]
  },
  {
   "cell_type": "code",
   "execution_count": 52,
   "id": "320198e6",
   "metadata": {},
   "outputs": [
    {
     "data": {
      "text/plain": [
       "30"
      ]
     },
     "execution_count": 52,
     "metadata": {},
     "output_type": "execute_result"
    }
   ],
   "source": [
    "m = lambda x,y :x+y\n",
    "m(a,b)"
   ]
  },
  {
   "cell_type": "code",
   "execution_count": 53,
   "id": "9f6a8a5e",
   "metadata": {},
   "outputs": [],
   "source": [
    "b = \"khan\"\n",
    "c= \"test\"\n",
    "m = lambda arg1,arg2 :print(arg1,arg2)"
   ]
  },
  {
   "cell_type": "code",
   "execution_count": 54,
   "id": "d2710fea",
   "metadata": {},
   "outputs": [
    {
     "name": "stdout",
     "output_type": "stream",
     "text": [
      "khan test\n"
     ]
    }
   ],
   "source": [
    "m(b,c)"
   ]
  },
  {
   "cell_type": "code",
   "execution_count": 60,
   "id": "437efd52",
   "metadata": {},
   "outputs": [],
   "source": [
    "r = 10\n",
    "def test5(a,b):\n",
    "    r = a/b\n",
    "    print(r)"
   ]
  },
  {
   "cell_type": "code",
   "execution_count": 61,
   "id": "3ca18d19",
   "metadata": {},
   "outputs": [
    {
     "name": "stdout",
     "output_type": "stream",
     "text": [
      "10.0\n"
     ]
    }
   ],
   "source": [
    "test5(100,10)"
   ]
  },
  {
   "cell_type": "code",
   "execution_count": 69,
   "id": "21d9c160",
   "metadata": {},
   "outputs": [],
   "source": [
    "def test9():\n",
    "    \"\"\"\"\"\n",
    "    this is function i am using it will help you \n",
    "    \"\"\"\"\"\n",
    "    print(\"my name is xyz\")"
   ]
  },
  {
   "cell_type": "code",
   "execution_count": 68,
   "id": "22de2c08",
   "metadata": {},
   "outputs": [
    {
     "name": "stdout",
     "output_type": "stream",
     "text": [
      "my name is xyz\n"
     ]
    }
   ],
   "source": [
    "test9()"
   ]
  },
  {
   "cell_type": "code",
   "execution_count": 66,
   "id": "8ac1864a",
   "metadata": {},
   "outputs": [
    {
     "name": "stdout",
     "output_type": "stream",
     "text": [
      "Help on built-in function print in module builtins:\n",
      "\n",
      "print(...)\n",
      "    print(value, ..., sep=' ', end='\\n', file=sys.stdout, flush=False)\n",
      "    \n",
      "    Prints the values to a stream, or to sys.stdout by default.\n",
      "    Optional keyword arguments:\n",
      "    file:  a file-like object (stream); defaults to the current sys.stdout.\n",
      "    sep:   string inserted between values, default a space.\n",
      "    end:   string appended after the last value, default a newline.\n",
      "    flush: whether to forcibly flush the stream.\n",
      "\n"
     ]
    }
   ],
   "source": [
    "help(print)"
   ]
  },
  {
   "cell_type": "code",
   "execution_count": 92,
   "id": "c9c10430",
   "metadata": {},
   "outputs": [],
   "source": [
    "a = \"khan\"\n",
    "s = iter(a)"
   ]
  },
  {
   "cell_type": "code",
   "execution_count": 93,
   "id": "875191ba",
   "metadata": {},
   "outputs": [
    {
     "data": {
      "text/plain": [
       "'k'"
      ]
     },
     "execution_count": 93,
     "metadata": {},
     "output_type": "execute_result"
    }
   ],
   "source": [
    "next(s)#string can be itrable"
   ]
  },
  {
   "cell_type": "code",
   "execution_count": 94,
   "id": "ae5bbce5",
   "metadata": {},
   "outputs": [
    {
     "ename": "TypeError",
     "evalue": "'int' object is not iterable",
     "output_type": "error",
     "traceback": [
      "\u001b[0;31m---------------------------------------------------------------------------\u001b[0m",
      "\u001b[0;31mTypeError\u001b[0m                                 Traceback (most recent call last)",
      "Input \u001b[0;32mIn [94]\u001b[0m, in \u001b[0;36m<cell line: 2>\u001b[0;34m()\u001b[0m\n\u001b[1;32m      1\u001b[0m a \u001b[38;5;241m=\u001b[39m \u001b[38;5;241m10\u001b[39m\n\u001b[0;32m----> 2\u001b[0m \u001b[38;5;28;43miter\u001b[39;49m\u001b[43m(\u001b[49m\u001b[43ma\u001b[49m\u001b[43m)\u001b[49m\n",
      "\u001b[0;31mTypeError\u001b[0m: 'int' object is not iterable"
     ]
    }
   ],
   "source": [
    "a = 10\n",
    "iter(a) #int can not be interable"
   ]
  }
 ],
 "metadata": {
  "kernelspec": {
   "display_name": "Python 3 (ipykernel)",
   "language": "python",
   "name": "python3"
  },
  "language_info": {
   "codemirror_mode": {
    "name": "ipython",
    "version": 3
   },
   "file_extension": ".py",
   "mimetype": "text/x-python",
   "name": "python",
   "nbconvert_exporter": "python",
   "pygments_lexer": "ipython3",
   "version": "3.9.12"
  }
 },
 "nbformat": 4,
 "nbformat_minor": 5
}
